{
 "cells": [
  {
   "cell_type": "code",
   "execution_count": 1,
   "metadata": {},
   "outputs": [
    {
     "name": "stderr",
     "output_type": "stream",
     "text": [
      "Using TensorFlow backend.\n"
     ]
    },
    {
     "data": {
      "text/plain": [
       "'2.2.4'"
      ]
     },
     "execution_count": 1,
     "metadata": {},
     "output_type": "execute_result"
    }
   ],
   "source": [
    "import keras\n",
    "keras.__version__"
   ]
  },
  {
   "cell_type": "code",
   "execution_count": 2,
   "metadata": {},
   "outputs": [
    {
     "data": {
      "text/plain": [
       "'1.14.0'"
      ]
     },
     "execution_count": 2,
     "metadata": {},
     "output_type": "execute_result"
    }
   ],
   "source": [
    "import tensorflow as tf\n",
    "tf.__version__"
   ]
  },
  {
   "cell_type": "code",
   "execution_count": 3,
   "metadata": {},
   "outputs": [],
   "source": [
    "#Import ImageDataGenerator Library\n",
    "import keras\n",
    "from keras.preprocessing.image import ImageDataGenerator"
   ]
  },
  {
   "cell_type": "code",
   "execution_count": 4,
   "metadata": {},
   "outputs": [],
   "source": [
    "#Define the parameters /arguments for ImageDataGenerator class to train set \n",
    "train_datagen = ImageDataGenerator(rescale=1./255,shear_range=0.2,\n",
    "                                   horizontal_flip=True,\n",
    "                                   zoom_range=0.2,\n",
    "                                  rotation_range=180) \n",
    "\n",
    "\n",
    "#Define the parameters /arguments for ImageDataGenerator class to test set\n",
    "test_datagen = ImageDataGenerator(rescale=1./255)"
   ]
  },
  {
   "cell_type": "code",
   "execution_count": 5,
   "metadata": {},
   "outputs": [
    {
     "name": "stdout",
     "output_type": "stream",
     "text": [
      "Found 424 images belonging to 6 classes.\n",
      "Found 144 images belonging to 6 classes.\n"
     ]
    }
   ],
   "source": [
    "#Applying ImageDataGenerator functionality to trainset\n",
    "x_train=train_datagen.flow_from_directory(\n",
    "    directory= r\"./dataset/train_set\",\n",
    "    target_size=(128,128),\n",
    "    batch_size=32,\n",
    "    class_mode='categorical')\n",
    "\n",
    "#Applying ImageDataGenerator functionality to test set\n",
    "x_test=test_datagen.flow_from_directory(\n",
    "    directory= r\"./dataset/test_set\",\n",
    "    target_size=(128,128),\n",
    "    batch_size=32,\n",
    "    class_mode='categorical')"
   ]
  },
  {
   "cell_type": "code",
   "execution_count": 6,
   "metadata": {},
   "outputs": [],
   "source": [
    "'''Importing the model building libraries'''\n",
    "#to define linear initializations import Sequential\n",
    "from keras.models import Sequential\n",
    "#To add layers import Dense\n",
    "from keras.layers import Dense\n",
    "# to create a convolution kernel import Convolution2D\n",
    "from keras.layers import Conv2D\n",
    "# to create a Max pooling Layer\n",
    "from keras.layers import MaxPool2D\n",
    "# to create a Flatten Layer\n",
    "from keras.layers import Flatten\n",
    "from keras.layers import Dropout"
   ]
  },
  {
   "cell_type": "code",
   "execution_count": 7,
   "metadata": {},
   "outputs": [
    {
     "name": "stdout",
     "output_type": "stream",
     "text": [
      "WARNING:tensorflow:From C:\\Users\\MSI\\Anaconda3\\lib\\site-packages\\keras\\backend\\tensorflow_backend.py:74: The name tf.get_default_graph is deprecated. Please use tf.compat.v1.get_default_graph instead.\n",
      "\n"
     ]
    }
   ],
   "source": [
    "# Initializing the model\n",
    "model = Sequential()"
   ]
  },
  {
   "cell_type": "code",
   "execution_count": 8,
   "metadata": {},
   "outputs": [
    {
     "name": "stdout",
     "output_type": "stream",
     "text": [
      "WARNING:tensorflow:From C:\\Users\\MSI\\Anaconda3\\lib\\site-packages\\keras\\backend\\tensorflow_backend.py:517: The name tf.placeholder is deprecated. Please use tf.compat.v1.placeholder instead.\n",
      "\n",
      "WARNING:tensorflow:From C:\\Users\\MSI\\Anaconda3\\lib\\site-packages\\keras\\backend\\tensorflow_backend.py:4138: The name tf.random_uniform is deprecated. Please use tf.random.uniform instead.\n",
      "\n"
     ]
    },
    {
     "name": "stderr",
     "output_type": "stream",
     "text": [
      "C:\\Users\\MSI\\Anaconda3\\lib\\site-packages\\ipykernel_launcher.py:2: UserWarning: Update your `Conv2D` call to the Keras 2 API: `Conv2D(64, (3, 3), input_shape=(128, 128,..., activation=\"relu\")`\n",
      "  \n"
     ]
    }
   ],
   "source": [
    "# Adding CNN layers\n",
    "model.add(Conv2D(64,3,3,input_shape=(128,128,3),activation='relu'))"
   ]
  },
  {
   "cell_type": "code",
   "execution_count": 9,
   "metadata": {},
   "outputs": [
    {
     "name": "stdout",
     "output_type": "stream",
     "text": [
      "WARNING:tensorflow:From C:\\Users\\MSI\\Anaconda3\\lib\\site-packages\\keras\\backend\\tensorflow_backend.py:3976: The name tf.nn.max_pool is deprecated. Please use tf.nn.max_pool2d instead.\n",
      "\n"
     ]
    }
   ],
   "source": [
    "# Adding Max pooling Layer\n",
    "model.add(MaxPool2D(pool_size=(2,2)))"
   ]
  },
  {
   "cell_type": "code",
   "execution_count": 10,
   "metadata": {},
   "outputs": [
    {
     "name": "stderr",
     "output_type": "stream",
     "text": [
      "C:\\Users\\MSI\\Anaconda3\\lib\\site-packages\\ipykernel_launcher.py:2: UserWarning: Update your `Conv2D` call to the Keras 2 API: `Conv2D(64, (3, 3), activation=\"relu\")`\n",
      "  \n"
     ]
    }
   ],
   "source": [
    "# Adding CNN layers\n",
    "model.add(Conv2D(64,3,3,activation='relu'))"
   ]
  },
  {
   "cell_type": "code",
   "execution_count": 11,
   "metadata": {},
   "outputs": [],
   "source": [
    "# Adding Max pooling Layer\n",
    "model.add(MaxPool2D(pool_size=(2,2)))"
   ]
  },
  {
   "cell_type": "code",
   "execution_count": 12,
   "metadata": {},
   "outputs": [],
   "source": [
    "# Adding Flatten Layer\n",
    "model.add(Flatten())"
   ]
  },
  {
   "cell_type": "code",
   "execution_count": 13,
   "metadata": {},
   "outputs": [
    {
     "name": "stdout",
     "output_type": "stream",
     "text": [
      "WARNING:tensorflow:From C:\\Users\\MSI\\Anaconda3\\lib\\site-packages\\keras\\backend\\tensorflow_backend.py:133: The name tf.placeholder_with_default is deprecated. Please use tf.compat.v1.placeholder_with_default instead.\n",
      "\n",
      "WARNING:tensorflow:From C:\\Users\\MSI\\Anaconda3\\lib\\site-packages\\keras\\backend\\tensorflow_backend.py:3445: calling dropout (from tensorflow.python.ops.nn_ops) with keep_prob is deprecated and will be removed in a future version.\n",
      "Instructions for updating:\n",
      "Please use `rate` instead of `keep_prob`. Rate should be set to `rate = 1 - keep_prob`.\n"
     ]
    }
   ],
   "source": [
    "model.add(Dropout(0.3))"
   ]
  },
  {
   "cell_type": "code",
   "execution_count": 14,
   "metadata": {},
   "outputs": [
    {
     "name": "stderr",
     "output_type": "stream",
     "text": [
      "C:\\Users\\MSI\\Anaconda3\\lib\\site-packages\\ipykernel_launcher.py:2: UserWarning: Update your `Dense` call to the Keras 2 API: `Dense(activation=\"relu\", units=150, kernel_initializer=\"uniform\")`\n",
      "  \n"
     ]
    }
   ],
   "source": [
    "# Adding Hidden Layers\n",
    "model.add(Dense(activation='relu',init='uniform',units=150))"
   ]
  },
  {
   "cell_type": "code",
   "execution_count": 15,
   "metadata": {},
   "outputs": [
    {
     "name": "stderr",
     "output_type": "stream",
     "text": [
      "C:\\Users\\MSI\\Anaconda3\\lib\\site-packages\\ipykernel_launcher.py:2: UserWarning: Update your `Dense` call to the Keras 2 API: `Dense(activation=\"relu\", units=75, kernel_initializer=\"uniform\")`\n",
      "  \n"
     ]
    }
   ],
   "source": [
    "# Adding Hidden Layers\n",
    "model.add(Dense(activation='relu',init='uniform',units=75))"
   ]
  },
  {
   "cell_type": "code",
   "execution_count": 16,
   "metadata": {},
   "outputs": [
    {
     "name": "stderr",
     "output_type": "stream",
     "text": [
      "C:\\Users\\MSI\\Anaconda3\\lib\\site-packages\\ipykernel_launcher.py:2: UserWarning: Update your `Dense` call to the Keras 2 API: `Dense(units=6, activation=\"softmax\", kernel_initializer=\"uniform\")`\n",
      "  \n"
     ]
    }
   ],
   "source": [
    "# Adding output Layers\n",
    "model.add(Dense(units=6,init='uniform',activation='softmax'))"
   ]
  },
  {
   "cell_type": "code",
   "execution_count": 17,
   "metadata": {},
   "outputs": [
    {
     "name": "stdout",
     "output_type": "stream",
     "text": [
      "_________________________________________________________________\n",
      "Layer (type)                 Output Shape              Param #   \n",
      "=================================================================\n",
      "conv2d_1 (Conv2D)            (None, 126, 126, 64)      1792      \n",
      "_________________________________________________________________\n",
      "max_pooling2d_1 (MaxPooling2 (None, 63, 63, 64)        0         \n",
      "_________________________________________________________________\n",
      "conv2d_2 (Conv2D)            (None, 61, 61, 64)        36928     \n",
      "_________________________________________________________________\n",
      "max_pooling2d_2 (MaxPooling2 (None, 30, 30, 64)        0         \n",
      "_________________________________________________________________\n",
      "flatten_1 (Flatten)          (None, 57600)             0         \n",
      "_________________________________________________________________\n",
      "dropout_1 (Dropout)          (None, 57600)             0         \n",
      "_________________________________________________________________\n",
      "dense_1 (Dense)              (None, 150)               8640150   \n",
      "_________________________________________________________________\n",
      "dense_2 (Dense)              (None, 75)                11325     \n",
      "_________________________________________________________________\n",
      "dense_3 (Dense)              (None, 6)                 456       \n",
      "=================================================================\n",
      "Total params: 8,690,651\n",
      "Trainable params: 8,690,651\n",
      "Non-trainable params: 0\n",
      "_________________________________________________________________\n"
     ]
    }
   ],
   "source": [
    "#check the summary of the model\n",
    "model.summary()"
   ]
  },
  {
   "cell_type": "code",
   "execution_count": 18,
   "metadata": {},
   "outputs": [
    {
     "name": "stdout",
     "output_type": "stream",
     "text": [
      "WARNING:tensorflow:From C:\\Users\\MSI\\Anaconda3\\lib\\site-packages\\keras\\optimizers.py:790: The name tf.train.Optimizer is deprecated. Please use tf.compat.v1.train.Optimizer instead.\n",
      "\n",
      "WARNING:tensorflow:From C:\\Users\\MSI\\Anaconda3\\lib\\site-packages\\keras\\backend\\tensorflow_backend.py:3295: The name tf.log is deprecated. Please use tf.math.log instead.\n",
      "\n"
     ]
    }
   ],
   "source": [
    "# Configure the learning process\n",
    "model.compile(optimizer = 'adam',loss='categorical_crossentropy',\n",
    "              metrics=['accuracy']) "
   ]
  },
  {
   "cell_type": "code",
   "execution_count": 19,
   "metadata": {},
   "outputs": [
    {
     "name": "stdout",
     "output_type": "stream",
     "text": [
      "{'Asparagus_edible': 0, 'Blue Vervain_edible': 1, 'Cattail_edible': 2, 'Chicory_edible_non edible': 3, 'Fireweed_edible_non edible': 4, 'green castor bean_non edible': 5}\n"
     ]
    }
   ],
   "source": [
    "#check the index position of classes\n",
    "print(x_train.class_indices)"
   ]
  },
  {
   "cell_type": "code",
   "execution_count": 20,
   "metadata": {},
   "outputs": [
    {
     "name": "stdout",
     "output_type": "stream",
     "text": [
      "WARNING:tensorflow:From C:\\Users\\MSI\\Anaconda3\\lib\\site-packages\\tensorflow\\python\\ops\\math_grad.py:1250: add_dispatch_support.<locals>.wrapper (from tensorflow.python.ops.array_ops) is deprecated and will be removed in a future version.\n",
      "Instructions for updating:\n",
      "Use tf.where in 2.0, which has the same broadcast rule as np.where\n",
      "Epoch 1/40\n",
      "14/14 [==============================] - 58s 4s/step - loss: 1.7681 - acc: 0.2527 - val_loss: 1.7421 - val_acc: 0.2847\n",
      "Epoch 2/40\n",
      "14/14 [==============================] - 45s 3s/step - loss: 1.7093 - acc: 0.2966 - val_loss: 1.7040 - val_acc: 0.2847\n",
      "Epoch 3/40\n",
      "14/14 [==============================] - 46s 3s/step - loss: 1.6642 - acc: 0.2841 - val_loss: 1.7132 - val_acc: 0.2292\n",
      "Epoch 4/40\n",
      "14/14 [==============================] - 54s 4s/step - loss: 1.5991 - acc: 0.2774 - val_loss: 1.5185 - val_acc: 0.4444\n",
      "Epoch 5/40\n",
      "14/14 [==============================] - 50s 4s/step - loss: 1.4597 - acc: 0.3916 - val_loss: 1.6637 - val_acc: 0.2639\n",
      "Epoch 6/40\n",
      "14/14 [==============================] - 55s 4s/step - loss: 1.4425 - acc: 0.4081 - val_loss: 1.3859 - val_acc: 0.4375\n",
      "Epoch 7/40\n",
      "14/14 [==============================] - 59s 4s/step - loss: 1.3228 - acc: 0.4587 - val_loss: 1.3208 - val_acc: 0.4514\n",
      "Epoch 8/40\n",
      "14/14 [==============================] - 66s 5s/step - loss: 1.3022 - acc: 0.4507 - val_loss: 1.3614 - val_acc: 0.4792\n",
      "Epoch 9/40\n",
      "14/14 [==============================] - 58s 4s/step - loss: 1.2457 - acc: 0.4915 - val_loss: 1.3075 - val_acc: 0.5139\n",
      "Epoch 10/40\n",
      "14/14 [==============================] - 53s 4s/step - loss: 1.2268 - acc: 0.4960 - val_loss: 1.2020 - val_acc: 0.5486\n",
      "Epoch 11/40\n",
      "14/14 [==============================] - 40s 3s/step - loss: 1.1695 - acc: 0.5511 - val_loss: 1.1054 - val_acc: 0.5625\n",
      "Epoch 12/40\n",
      "14/14 [==============================] - 27s 2s/step - loss: 1.0714 - acc: 0.5672 - val_loss: 1.2251 - val_acc: 0.5139\n",
      "Epoch 13/40\n",
      "14/14 [==============================] - 31s 2s/step - loss: 1.1800 - acc: 0.5232 - val_loss: 1.0553 - val_acc: 0.5903\n",
      "Epoch 14/40\n",
      "14/14 [==============================] - 24s 2s/step - loss: 1.0121 - acc: 0.6330 - val_loss: 1.0056 - val_acc: 0.6111\n",
      "Epoch 15/40\n",
      "14/14 [==============================] - 24s 2s/step - loss: 0.9748 - acc: 0.5744 - val_loss: 0.9238 - val_acc: 0.6389\n",
      "Epoch 16/40\n",
      "14/14 [==============================] - 26s 2s/step - loss: 0.9305 - acc: 0.6147 - val_loss: 0.8911 - val_acc: 0.6389\n",
      "Epoch 17/40\n",
      "14/14 [==============================] - 24s 2s/step - loss: 1.0720 - acc: 0.5856 - val_loss: 0.8996 - val_acc: 0.6458\n",
      "Epoch 18/40\n",
      "14/14 [==============================] - 26s 2s/step - loss: 1.2072 - acc: 0.5403 - val_loss: 1.0379 - val_acc: 0.6181\n",
      "Epoch 19/40\n",
      "14/14 [==============================] - 23s 2s/step - loss: 1.0165 - acc: 0.5892 - val_loss: 0.9250 - val_acc: 0.6667\n",
      "Epoch 20/40\n",
      "14/14 [==============================] - 27s 2s/step - loss: 0.8718 - acc: 0.6514 - val_loss: 0.8284 - val_acc: 0.6944\n",
      "Epoch 21/40\n",
      "14/14 [==============================] - 35s 2s/step - loss: 0.7983 - acc: 0.6917 - val_loss: 0.7116 - val_acc: 0.7222\n",
      "Epoch 22/40\n",
      "14/14 [==============================] - 32s 2s/step - loss: 0.7666 - acc: 0.6980 - val_loss: 0.7277 - val_acc: 0.7083\n",
      "Epoch 23/40\n",
      "14/14 [==============================] - 26s 2s/step - loss: 0.7160 - acc: 0.7146 - val_loss: 0.7519 - val_acc: 0.7222\n",
      "Epoch 24/40\n",
      "14/14 [==============================] - 28s 2s/step - loss: 0.7414 - acc: 0.7114 - val_loss: 0.8297 - val_acc: 0.6875\n",
      "Epoch 25/40\n",
      "14/14 [==============================] - 26s 2s/step - loss: 0.6781 - acc: 0.7388 - val_loss: 0.7968 - val_acc: 0.6667\n",
      "Epoch 26/40\n",
      "14/14 [==============================] - 27s 2s/step - loss: 0.6936 - acc: 0.7146 - val_loss: 0.6732 - val_acc: 0.7292\n",
      "Epoch 27/40\n",
      "14/14 [==============================] - 28s 2s/step - loss: 0.6100 - acc: 0.7505 - val_loss: 0.6492 - val_acc: 0.7153\n",
      "Epoch 28/40\n",
      "14/14 [==============================] - 25s 2s/step - loss: 0.7444 - acc: 0.6994 - val_loss: 0.6494 - val_acc: 0.7500\n",
      "Epoch 29/40\n",
      "14/14 [==============================] - 28s 2s/step - loss: 0.8276 - acc: 0.6815 - val_loss: 0.7298 - val_acc: 0.6944\n",
      "Epoch 30/40\n",
      "14/14 [==============================] - 28s 2s/step - loss: 0.7258 - acc: 0.7079 - val_loss: 0.8475 - val_acc: 0.6597\n",
      "Epoch 31/40\n",
      "14/14 [==============================] - 28s 2s/step - loss: 0.6528 - acc: 0.7450 - val_loss: 0.7177 - val_acc: 0.7083\n",
      "Epoch 32/40\n",
      "14/14 [==============================] - 26s 2s/step - loss: 0.6402 - acc: 0.7572 - val_loss: 0.6190 - val_acc: 0.7639\n",
      "Epoch 33/40\n",
      "14/14 [==============================] - 30s 2s/step - loss: 0.5806 - acc: 0.7689 - val_loss: 0.7925 - val_acc: 0.6944\n",
      "Epoch 34/40\n",
      "14/14 [==============================] - 26s 2s/step - loss: 0.6437 - acc: 0.7607 - val_loss: 0.6173 - val_acc: 0.7500\n",
      "Epoch 35/40\n",
      "14/14 [==============================] - 30s 2s/step - loss: 0.5634 - acc: 0.7854 - val_loss: 0.6460 - val_acc: 0.7014\n",
      "Epoch 36/40\n",
      "14/14 [==============================] - 27s 2s/step - loss: 0.5842 - acc: 0.7702 - val_loss: 0.5134 - val_acc: 0.7847\n",
      "Epoch 37/40\n",
      "14/14 [==============================] - 28s 2s/step - loss: 0.7386 - acc: 0.6959 - val_loss: 0.7314 - val_acc: 0.6736\n",
      "Epoch 38/40\n",
      "14/14 [==============================] - 28s 2s/step - loss: 0.6783 - acc: 0.7540 - val_loss: 0.5859 - val_acc: 0.7569\n",
      "Epoch 39/40\n",
      "14/14 [==============================] - 28s 2s/step - loss: 0.6441 - acc: 0.7468 - val_loss: 0.5291 - val_acc: 0.7847\n",
      "Epoch 40/40\n",
      "14/14 [==============================] - 29s 2s/step - loss: 0.5468 - acc: 0.7746 - val_loss: 0.5200 - val_acc: 0.7917\n"
     ]
    }
   ],
   "source": [
    "# Training the model\n",
    "history = model.fit_generator(x_train,steps_per_epoch=14,\n",
    "                              validation_data=x_test,\n",
    "                              epochs=40,validation_steps=5)"
   ]
  },
  {
   "cell_type": "code",
   "execution_count": 21,
   "metadata": {},
   "outputs": [],
   "source": [
    "#save the model\n",
    "model.save('edible-non.h5')"
   ]
  },
  {
   "cell_type": "code",
   "execution_count": 22,
   "metadata": {},
   "outputs": [],
   "source": [
    "#import numpy library\n",
    "import numpy as np\n",
    "#import load_model method to load our saved model\n",
    "from keras.models import load_model\n",
    "#import image from keras.preprocessing\n",
    "from keras.preprocessing import image\n",
    "#loading our saved model file\n",
    "model = load_model(\"edible-non.h5\")"
   ]
  },
  {
   "cell_type": "code",
   "execution_count": 80,
   "metadata": {},
   "outputs": [
    {
     "data": {
      "text/plain": [
       "array([2], dtype=int64)"
      ]
     },
     "execution_count": 80,
     "metadata": {},
     "output_type": "execute_result"
    }
   ],
   "source": [
    "img = image.load_img(r\"./dataset/test_set/green castor bean_non edible/green 1 (77).jpg\",\n",
    "                     target_size=(128,128))\n",
    "x = image.img_to_array(img)\n",
    "#expanding the shape of image to 4 dimensions\n",
    "x = np.expand_dims(x,axis=0)\n",
    "pred = model.predict_classes(x)\n",
    "pred"
   ]
  },
  {
   "cell_type": "code",
   "execution_count": 81,
   "metadata": {},
   "outputs": [
    {
     "data": {
      "text/plain": [
       "'Cattail_edible'"
      ]
     },
     "execution_count": 81,
     "metadata": {},
     "output_type": "execute_result"
    }
   ],
   "source": [
    "index=['Asparagus_edible','Blue Vervain_edible','Cattail_edible',\n",
    "       'Chicory_edible_non edible','Fireweed_edible_non edible', \n",
    "       'green castor bean_non edible']\n",
    "result = str(index[pred[0]])\n",
    "result"
   ]
  },
  {
   "cell_type": "code",
   "execution_count": null,
   "metadata": {},
   "outputs": [],
   "source": []
  }
 ],
 "metadata": {
  "kernelspec": {
   "display_name": "Python 3",
   "language": "python",
   "name": "python3"
  },
  "language_info": {
   "codemirror_mode": {
    "name": "ipython",
    "version": 3
   },
   "file_extension": ".py",
   "mimetype": "text/x-python",
   "name": "python",
   "nbconvert_exporter": "python",
   "pygments_lexer": "ipython3",
   "version": "3.7.3"
  }
 },
 "nbformat": 4,
 "nbformat_minor": 2
}
